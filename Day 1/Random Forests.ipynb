{
 "cells": [
  {
   "cell_type": "code",
   "execution_count": null,
   "id": "6ea5ca06-f155-4b8a-9ee4-d657da5f45cd",
   "metadata": {},
   "outputs": [],
   "source": [
    "# Load the Necessity "
   ]
  },
  {
   "cell_type": "code",
   "execution_count": null,
   "id": "5fe6b229-4a0d-4a1d-8db6-bd9615503190",
   "metadata": {},
   "outputs": [],
   "source": [
    "import pandas as pd\n",
    "import sklearn\n",
    "import matplotlib.pyplot as plt\n",
    "import numpy as np"
   ]
  },
  {
   "cell_type": "code",
   "execution_count": null,
   "id": "b744ca52-66fa-4962-8286-e51d02c1a6c5",
   "metadata": {},
   "outputs": [],
   "source": [
    "# Load the data"
   ]
  },
  {
   "cell_type": "code",
   "execution_count": null,
   "id": "8a70e1f7-48b5-4c5d-8f24-8e1138c6b1a6",
   "metadata": {},
   "outputs": [],
   "source": [
    "df=pd.read_csv(\"./Data/Day1/rf.csv\")"
   ]
  }
 ],
 "metadata": {
  "kernelspec": {
   "display_name": "Python",
   "language": "python",
   "name": "python3"
  },
  "language_info": {
   "codemirror_mode": {
    "name": "ipython",
    "version": 3
   },
   "file_extension": ".py",
   "mimetype": "text/x-python",
   "name": "python",
   "nbconvert_exporter": "python",
   "pygments_lexer": "ipython3",
   "version": "3.8.10"
  }
 },
 "nbformat": 4,
 "nbformat_minor": 5
}
